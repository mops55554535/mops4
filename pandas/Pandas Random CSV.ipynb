{
 "cells": [
  {
   "cell_type": "code",
   "execution_count": 15,
   "metadata": {},
   "outputs": [],
   "source": [
    "import pandas as pd\n",
    "import numpy as np\n",
    "import matplotlib.pyplot as plt"
   ]
  },
  {
   "cell_type": "code",
   "execution_count": 16,
   "metadata": {},
   "outputs": [],
   "source": [
    "np.random.seed(1)\n",
    "n = 100\n",
    "dates = pd.date_range(start='2050-01-01', periods=n, freq='D')\n",
    "products = np.random.choice(['Tablet','Camera',\"Phone\"], n)\n",
    "prices = np.round(np.random.uniform(50.0, 200.0, n),2)\n",
    "prices\n",
    "quantities = np.random.randint(1,15, n)\n",
    "\n",
    "data = {\n",
    "    'Data': dates,\n",
    "    'Products': products,\n",
    "    'Prices': prices,\n",
    "    'Quantities': quantities\n",
    "}\n",
    "df = pd.DataFrame(data)\n",
    "df.dtypes\n",
    "df.to_csv('Pandas Random CSV', index=False)"
   ]
  },
  {
   "cell_type": "markdown",
   "metadata": {},
   "source": []
  },
  {
   "cell_type": "markdown",
   "metadata": {},
   "source": []
  },
  {
   "cell_type": "code",
   "execution_count": 17,
   "metadata": {},
   "outputs": [
    {
     "data": {
      "text/html": [
       "<div>\n",
       "<style scoped>\n",
       "    .dataframe tbody tr th:only-of-type {\n",
       "        vertical-align: middle;\n",
       "    }\n",
       "\n",
       "    .dataframe tbody tr th {\n",
       "        vertical-align: top;\n",
       "    }\n",
       "\n",
       "    .dataframe thead th {\n",
       "        text-align: right;\n",
       "    }\n",
       "</style>\n",
       "<table border=\"1\" class=\"dataframe\">\n",
       "  <thead>\n",
       "    <tr style=\"text-align: right;\">\n",
       "      <th></th>\n",
       "      <th>Data</th>\n",
       "      <th>Products</th>\n",
       "      <th>Prices</th>\n",
       "      <th>Quantities</th>\n",
       "    </tr>\n",
       "  </thead>\n",
       "  <tbody>\n",
       "    <tr>\n",
       "      <th>0</th>\n",
       "      <td>2050-01-01</td>\n",
       "      <td>Camera</td>\n",
       "      <td>191.69</td>\n",
       "      <td>2</td>\n",
       "    </tr>\n",
       "    <tr>\n",
       "      <th>1</th>\n",
       "      <td>2050-01-02</td>\n",
       "      <td>Tablet</td>\n",
       "      <td>137.98</td>\n",
       "      <td>8</td>\n",
       "    </tr>\n",
       "    <tr>\n",
       "      <th>2</th>\n",
       "      <td>2050-01-03</td>\n",
       "      <td>Tablet</td>\n",
       "      <td>185.51</td>\n",
       "      <td>1</td>\n",
       "    </tr>\n",
       "    <tr>\n",
       "      <th>3</th>\n",
       "      <td>2050-01-04</td>\n",
       "      <td>Camera</td>\n",
       "      <td>70.62</td>\n",
       "      <td>11</td>\n",
       "    </tr>\n",
       "    <tr>\n",
       "      <th>4</th>\n",
       "      <td>2050-01-05</td>\n",
       "      <td>Camera</td>\n",
       "      <td>70.89</td>\n",
       "      <td>11</td>\n",
       "    </tr>\n",
       "  </tbody>\n",
       "</table>\n",
       "</div>"
      ],
      "text/plain": [
       "        Data Products  Prices  Quantities\n",
       "0 2050-01-01   Camera  191.69           2\n",
       "1 2050-01-02   Tablet  137.98           8\n",
       "2 2050-01-03   Tablet  185.51           1\n",
       "3 2050-01-04   Camera   70.62          11\n",
       "4 2050-01-05   Camera   70.89          11"
      ]
     },
     "execution_count": 17,
     "metadata": {},
     "output_type": "execute_result"
    }
   ],
   "source": [
    "df = pd.read_csv('Pandas Random CSV', parse_dates=['Data'], date_format='%Y-%m-%d')\n",
    "df.head()"
   ]
  },
  {
   "cell_type": "code",
   "execution_count": 18,
   "metadata": {},
   "outputs": [
    {
     "data": {
      "text/plain": [
       "Data          datetime64[ns]\n",
       "Products              object\n",
       "Prices               float64\n",
       "Quantities             int64\n",
       "dtype: object"
      ]
     },
     "execution_count": 18,
     "metadata": {},
     "output_type": "execute_result"
    }
   ],
   "source": [
    "df.dtypes"
   ]
  },
  {
   "cell_type": "code",
   "execution_count": 19,
   "metadata": {},
   "outputs": [],
   "source": [
    "df.to_excel('data.xlsx')"
   ]
  },
  {
   "cell_type": "code",
   "execution_count": 20,
   "metadata": {},
   "outputs": [
    {
     "name": "stdout",
     "output_type": "stream",
     "text": [
      "Requirement already satisfied: openpyxl in c:\\users\\progpc\\appdata\\local\\packages\\pythonsoftwarefoundation.python.3.11_qbz5n2kfra8p0\\localcache\\local-packages\\python311\\site-packages (3.1.5)\n",
      "Requirement already satisfied: et-xmlfile in c:\\users\\progpc\\appdata\\local\\packages\\pythonsoftwarefoundation.python.3.11_qbz5n2kfra8p0\\localcache\\local-packages\\python311\\site-packages (from openpyxl) (2.0.0)\n",
      "Note: you may need to restart the kernel to use updated packages.\n"
     ]
    }
   ],
   "source": [
    "%pip install openpyxl"
   ]
  },
  {
   "cell_type": "code",
   "execution_count": 21,
   "metadata": {},
   "outputs": [
    {
     "data": {
      "text/html": [
       "<div>\n",
       "<style scoped>\n",
       "    .dataframe tbody tr th:only-of-type {\n",
       "        vertical-align: middle;\n",
       "    }\n",
       "\n",
       "    .dataframe tbody tr th {\n",
       "        vertical-align: top;\n",
       "    }\n",
       "\n",
       "    .dataframe thead th {\n",
       "        text-align: right;\n",
       "    }\n",
       "</style>\n",
       "<table border=\"1\" class=\"dataframe\">\n",
       "  <thead>\n",
       "    <tr style=\"text-align: right;\">\n",
       "      <th></th>\n",
       "      <th>Data</th>\n",
       "      <th>Prices</th>\n",
       "      <th>Quantities</th>\n",
       "    </tr>\n",
       "  </thead>\n",
       "  <tbody>\n",
       "    <tr>\n",
       "      <th>count</th>\n",
       "      <td>100</td>\n",
       "      <td>100.00</td>\n",
       "      <td>100.00</td>\n",
       "    </tr>\n",
       "    <tr>\n",
       "      <th>mean</th>\n",
       "      <td>2050-02-19 12:00:00</td>\n",
       "      <td>125.00</td>\n",
       "      <td>7.65</td>\n",
       "    </tr>\n",
       "    <tr>\n",
       "      <th>min</th>\n",
       "      <td>2050-01-01 00:00:00</td>\n",
       "      <td>50.43</td>\n",
       "      <td>1.00</td>\n",
       "    </tr>\n",
       "    <tr>\n",
       "      <th>25%</th>\n",
       "      <td>2050-01-25 18:00:00</td>\n",
       "      <td>78.44</td>\n",
       "      <td>4.00</td>\n",
       "    </tr>\n",
       "    <tr>\n",
       "      <th>50%</th>\n",
       "      <td>2050-02-19 12:00:00</td>\n",
       "      <td>133.70</td>\n",
       "      <td>8.00</td>\n",
       "    </tr>\n",
       "    <tr>\n",
       "      <th>75%</th>\n",
       "      <td>2050-03-16 06:00:00</td>\n",
       "      <td>165.01</td>\n",
       "      <td>11.00</td>\n",
       "    </tr>\n",
       "    <tr>\n",
       "      <th>max</th>\n",
       "      <td>2050-04-10 00:00:00</td>\n",
       "      <td>199.60</td>\n",
       "      <td>14.00</td>\n",
       "    </tr>\n",
       "    <tr>\n",
       "      <th>std</th>\n",
       "      <td>NaN</td>\n",
       "      <td>47.84</td>\n",
       "      <td>4.14</td>\n",
       "    </tr>\n",
       "  </tbody>\n",
       "</table>\n",
       "</div>"
      ],
      "text/plain": [
       "                      Data  Prices  Quantities\n",
       "count                  100  100.00      100.00\n",
       "mean   2050-02-19 12:00:00  125.00        7.65\n",
       "min    2050-01-01 00:00:00   50.43        1.00\n",
       "25%    2050-01-25 18:00:00   78.44        4.00\n",
       "50%    2050-02-19 12:00:00  133.70        8.00\n",
       "75%    2050-03-16 06:00:00  165.01       11.00\n",
       "max    2050-04-10 00:00:00  199.60       14.00\n",
       "std                    NaN   47.84        4.14"
      ]
     },
     "execution_count": 21,
     "metadata": {},
     "output_type": "execute_result"
    }
   ],
   "source": [
    "df.describe().round(2)"
   ]
  },
  {
   "cell_type": "code",
   "execution_count": 22,
   "metadata": {},
   "outputs": [
    {
     "data": {
      "text/plain": [
       "array([[Timestamp('2050-01-01 00:00:00'), 'Camera', 191.69, 2],\n",
       "       [Timestamp('2050-01-02 00:00:00'), 'Tablet', 137.98, 8],\n",
       "       [Timestamp('2050-01-03 00:00:00'), 'Tablet', 185.51, 1],\n",
       "       [Timestamp('2050-01-04 00:00:00'), 'Camera', 70.62, 11],\n",
       "       [Timestamp('2050-01-05 00:00:00'), 'Camera', 70.89, 11],\n",
       "       [Timestamp('2050-01-06 00:00:00'), 'Tablet', 171.11, 3],\n",
       "       [Timestamp('2050-01-07 00:00:00'), 'Tablet', 109.65, 9],\n",
       "       [Timestamp('2050-01-08 00:00:00'), 'Camera', 74.8, 3],\n",
       "       [Timestamp('2050-01-09 00:00:00'), 'Tablet', 189.13, 2],\n",
       "       [Timestamp('2050-01-10 00:00:00'), 'Camera', 102.16, 5],\n",
       "       [Timestamp('2050-01-11 00:00:00'), 'Tablet', 162.62, 1],\n",
       "       [Timestamp('2050-01-12 00:00:00'), 'Phone', 158.9, 13],\n",
       "       [Timestamp('2050-01-13 00:00:00'), 'Camera', 182.5, 5],\n",
       "       [Timestamp('2050-01-14 00:00:00'), 'Phone', 143.55, 2],\n",
       "       [Timestamp('2050-01-15 00:00:00'), 'Tablet', 162.64, 8],\n",
       "       [Timestamp('2050-01-16 00:00:00'), 'Phone', 102.33, 4],\n",
       "       [Timestamp('2050-01-17 00:00:00'), 'Camera', 90.49, 2],\n",
       "       [Timestamp('2050-01-18 00:00:00'), 'Phone', 184.38, 13],\n",
       "       [Timestamp('2050-01-19 00:00:00'), 'Tablet', 114.21, 7],\n",
       "       [Timestamp('2050-01-20 00:00:00'), 'Tablet', 194.73, 7],\n",
       "       [Timestamp('2050-01-21 00:00:00'), 'Phone', 149.52, 10],\n",
       "       [Timestamp('2050-01-22 00:00:00'), 'Tablet', 143.25, 11],\n",
       "       [Timestamp('2050-01-23 00:00:00'), 'Camera', 67.21, 14],\n",
       "       [Timestamp('2050-01-24 00:00:00'), 'Phone', 192.42, 7],\n",
       "       [Timestamp('2050-01-25 00:00:00'), 'Phone', 117.49, 10],\n",
       "       [Timestamp('2050-01-26 00:00:00'), 'Tablet', 136.76, 7],\n",
       "       [Timestamp('2050-01-27 00:00:00'), 'Camera', 111.22, 1],\n",
       "       [Timestamp('2050-01-28 00:00:00'), 'Camera', 85.55, 1],\n",
       "       [Timestamp('2050-01-29 00:00:00'), 'Phone', 185.51, 3],\n",
       "       [Timestamp('2050-01-30 00:00:00'), 'Tablet', 136.05, 13],\n",
       "       [Timestamp('2050-01-31 00:00:00'), 'Phone', 50.43, 10],\n",
       "       [Timestamp('2050-02-01 00:00:00'), 'Camera', 142.57, 7],\n",
       "       [Timestamp('2050-02-02 00:00:00'), 'Camera', 99.0, 1],\n",
       "       [Timestamp('2050-02-03 00:00:00'), 'Camera', 129.06, 7],\n",
       "       [Timestamp('2050-02-04 00:00:00'), 'Camera', 182.89, 8],\n",
       "       [Timestamp('2050-02-05 00:00:00'), 'Phone', 103.59, 1],\n",
       "       [Timestamp('2050-02-06 00:00:00'), 'Camera', 186.28, 4],\n",
       "       [Timestamp('2050-02-07 00:00:00'), 'Camera', 143.5, 10],\n",
       "       [Timestamp('2050-02-08 00:00:00'), 'Tablet', 52.37, 1],\n",
       "       [Timestamp('2050-02-09 00:00:00'), 'Tablet', 189.42, 13],\n",
       "       [Timestamp('2050-02-10 00:00:00'), 'Camera', 153.63, 4],\n",
       "       [Timestamp('2050-02-11 00:00:00'), 'Tablet', 199.6, 11],\n",
       "       [Timestamp('2050-02-12 00:00:00'), 'Tablet', 75.85, 12],\n",
       "       [Timestamp('2050-02-13 00:00:00'), 'Camera', 70.57, 5],\n",
       "       [Timestamp('2050-02-14 00:00:00'), 'Phone', 189.89, 8],\n",
       "       [Timestamp('2050-02-15 00:00:00'), 'Camera', 154.52, 6],\n",
       "       [Timestamp('2050-02-16 00:00:00'), 'Tablet', 59.9, 13],\n",
       "       [Timestamp('2050-02-17 00:00:00'), 'Phone', 163.32, 4],\n",
       "       [Timestamp('2050-02-18 00:00:00'), 'Phone', 163.08, 9],\n",
       "       [Timestamp('2050-02-19 00:00:00'), 'Camera', 188.45, 9],\n",
       "       [Timestamp('2050-02-20 00:00:00'), 'Camera', 156.73, 1],\n",
       "       [Timestamp('2050-02-21 00:00:00'), 'Camera', 68.64, 7],\n",
       "       [Timestamp('2050-02-22 00:00:00'), 'Tablet', 52.98, 8],\n",
       "       [Timestamp('2050-02-23 00:00:00'), 'Tablet', 53.93, 13],\n",
       "       [Timestamp('2050-02-24 00:00:00'), 'Camera', 54.25, 14],\n",
       "       [Timestamp('2050-02-25 00:00:00'), 'Tablet', 86.93, 10],\n",
       "       [Timestamp('2050-02-26 00:00:00'), 'Phone', 179.0, 6],\n",
       "       [Timestamp('2050-02-27 00:00:00'), 'Tablet', 130.82, 5],\n",
       "       [Timestamp('2050-02-28 00:00:00'), 'Tablet', 132.92, 10],\n",
       "       [Timestamp('2050-03-01 00:00:00'), 'Camera', 176.3, 11],\n",
       "       [Timestamp('2050-03-02 00:00:00'), 'Camera', 68.63, 6],\n",
       "       [Timestamp('2050-03-03 00:00:00'), 'Phone', 91.88, 3],\n",
       "       [Timestamp('2050-03-04 00:00:00'), 'Tablet', 137.86, 14],\n",
       "       [Timestamp('2050-03-05 00:00:00'), 'Tablet', 195.44, 13],\n",
       "       [Timestamp('2050-03-06 00:00:00'), 'Camera', 134.15, 6],\n",
       "       [Timestamp('2050-03-07 00:00:00'), 'Phone', 52.8, 7],\n",
       "       [Timestamp('2050-03-08 00:00:00'), 'Phone', 170.09, 12],\n",
       "       [Timestamp('2050-03-09 00:00:00'), 'Camera', 84.95, 7],\n",
       "       [Timestamp('2050-03-10 00:00:00'), 'Tablet', 171.07, 13],\n",
       "       [Timestamp('2050-03-11 00:00:00'), 'Phone', 108.18, 13],\n",
       "       [Timestamp('2050-03-12 00:00:00'), 'Camera', 179.53, 9],\n",
       "       [Timestamp('2050-03-13 00:00:00'), 'Phone', 162.07, 12],\n",
       "       [Timestamp('2050-03-14 00:00:00'), 'Camera', 133.44, 11],\n",
       "       [Timestamp('2050-03-15 00:00:00'), 'Tablet', 70.47, 13],\n",
       "       [Timestamp('2050-03-16 00:00:00'), 'Camera', 58.99, 8],\n",
       "       [Timestamp('2050-03-17 00:00:00'), 'Camera', 68.2, 8],\n",
       "       [Timestamp('2050-03-18 00:00:00'), 'Phone', 56.68, 8],\n",
       "       [Timestamp('2050-03-19 00:00:00'), 'Tablet', 66.12, 14],\n",
       "       [Timestamp('2050-03-20 00:00:00'), 'Tablet', 83.86, 12],\n",
       "       [Timestamp('2050-03-21 00:00:00'), 'Phone', 156.95, 13],\n",
       "       [Timestamp('2050-03-22 00:00:00'), 'Phone', 133.96, 3],\n",
       "       [Timestamp('2050-03-23 00:00:00'), 'Camera', 51.88, 7],\n",
       "       [Timestamp('2050-03-24 00:00:00'), 'Tablet', 60.8, 12],\n",
       "       [Timestamp('2050-03-25 00:00:00'), 'Phone', 195.09, 1],\n",
       "       [Timestamp('2050-03-26 00:00:00'), 'Phone', 135.22, 14],\n",
       "       [Timestamp('2050-03-27 00:00:00'), 'Phone', 80.49, 6],\n",
       "       [Timestamp('2050-03-28 00:00:00'), 'Tablet', 87.85, 3],\n",
       "       [Timestamp('2050-03-29 00:00:00'), 'Tablet', 161.57, 2],\n",
       "       [Timestamp('2050-03-30 00:00:00'), 'Camera', 79.31, 12],\n",
       "       [Timestamp('2050-03-31 00:00:00'), 'Camera', 137.2, 11],\n",
       "       [Timestamp('2050-04-01 00:00:00'), 'Camera', 195.5, 9],\n",
       "       [Timestamp('2050-04-02 00:00:00'), 'Tablet', 177.02, 6],\n",
       "       [Timestamp('2050-04-03 00:00:00'), 'Tablet', 85.98, 10],\n",
       "       [Timestamp('2050-04-04 00:00:00'), 'Camera', 124.07, 5],\n",
       "       [Timestamp('2050-04-05 00:00:00'), 'Camera', 142.99, 10],\n",
       "       [Timestamp('2050-04-06 00:00:00'), 'Phone', 174.35, 12],\n",
       "       [Timestamp('2050-04-07 00:00:00'), 'Tablet', 73.52, 12],\n",
       "       [Timestamp('2050-04-08 00:00:00'), 'Camera', 52.79, 2],\n",
       "       [Timestamp('2050-04-09 00:00:00'), 'Phone', 60.5, 3],\n",
       "       [Timestamp('2050-04-10 00:00:00'), 'Phone', 122.95, 1]],\n",
       "      dtype=object)"
      ]
     },
     "execution_count": 22,
     "metadata": {},
     "output_type": "execute_result"
    }
   ],
   "source": [
    "df.values"
   ]
  },
  {
   "cell_type": "code",
   "execution_count": 23,
   "metadata": {},
   "outputs": [
    {
     "data": {
      "text/plain": [
       "Products\n",
       "Camera    260\n",
       "Phone     208\n",
       "Tablet    297\n",
       "Name: Quantities, dtype: int64"
      ]
     },
     "execution_count": 23,
     "metadata": {},
     "output_type": "execute_result"
    }
   ],
   "source": [
    "df.groupby('Products')['Quantities'].sum()"
   ]
  },
  {
   "cell_type": "code",
   "execution_count": 24,
   "metadata": {},
   "outputs": [],
   "source": [
    "product_sales = df.groupby('Products')['Prices'].mean()\n",
    "\n"
   ]
  },
  {
   "cell_type": "code",
   "execution_count": 25,
   "metadata": {},
   "outputs": [
    {
     "data": {
      "text/plain": [
       "<function matplotlib.pyplot.show(close=None, block=None)>"
      ]
     },
     "execution_count": 25,
     "metadata": {},
     "output_type": "execute_result"
    },
    {
     "data": {
      "image/png": "[encoded data removed]",
      "text/plain": [
       "<Figure size 640x480 with 1 Axes>"
      ]
     },
     "metadata": {},
     "output_type": "display_data"
    }
   ],
   "source": [
    "plt.bar(product_sales.index, product_sales.values)\n",
    "plt.show"
   ]
  },
  {
   "cell_type": "code",
   "execution_count": null,
   "metadata": {},
   "outputs": [],
   "source": []
  }
 ],
 "metadata": {
  "kernelspec": {
   "display_name": "Python 3",
   "language": "python",
   "name": "python3"
  },
  "language_info": {
   "codemirror_mode": {
    "name": "ipython",
    "version": 3
   },
   "file_extension": ".py",
   "mimetype": "text/x-python",
   "name": "python",
   "nbconvert_exporter": "python",
   "pygments_lexer": "ipython3",
   "version": "3.11.9"
  }
 },
 "nbformat": 4,
 "nbformat_minor": 2
}
