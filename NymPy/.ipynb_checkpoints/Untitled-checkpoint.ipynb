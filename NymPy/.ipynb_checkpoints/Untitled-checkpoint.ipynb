{
 "cells": [
  {
   "cell_type": "code",
   "execution_count": 1,
   "id": "29428eda-47da-49ed-a8ea-28e59d6aa77b",
   "metadata": {},
   "outputs": [],
   "source": [
    "import numpy as np\n"
   ]
  },
  {
   "cell_type": "code",
   "execution_count": 2,
   "id": "6ddf7e01-45fc-4724-a6ba-3561dfcd49d4",
   "metadata": {},
   "outputs": [
    {
     "data": {
      "text/plain": [
       "array([[0., 0., 0., 0.],\n",
       "       [0., 0., 0., 0.]])"
      ]
     },
     "execution_count": 2,
     "metadata": {},
     "output_type": "execute_result"
    }
   ],
   "source": [
    "np.zeros((2,4))"
   ]
  },
  {
   "cell_type": "code",
   "execution_count": 4,
   "id": "5504a546-a650-47db-846a-c17923db1374",
   "metadata": {},
   "outputs": [
    {
     "data": {
      "text/plain": [
       "array([[0.52175732, 0.73099947, 0.11500394, 0.30986602],\n",
       "       [0.49305423, 0.07124839, 0.5315089 , 0.30945354]])"
      ]
     },
     "execution_count": 4,
     "metadata": {},
     "output_type": "execute_result"
    }
   ],
   "source": [
    "np.random.random((2, 4))"
   ]
  },
  {
   "cell_type": "code",
   "execution_count": 7,
   "id": "a7c11256-4bd7-45a8-8f9e-fbf31c0a73ab",
   "metadata": {},
   "outputs": [
    {
     "name": "stdout",
     "output_type": "stream",
     "text": [
      "[3.6  3.53 2.73 3.43]\n"
     ]
    }
   ],
   "source": [
    "producr_ratings = np.array([[4.5, 3.2, 2.5, 5. ],\n",
    "                          [4.3, 3.8, 1. , 4.8],\n",
    "                          [2. , 3.6, 4.7, 0.5]])\n",
    "avarage_prt_category = np.round(np.mean(producr_ratings, axis=0), 2)\n",
    "print(avarage_prt_category)"
   ]
  },
  {
   "cell_type": "code",
   "execution_count": 8,
   "id": "5df922af-d351-4d28-926a-e92315bc8c73",
   "metadata": {},
   "outputs": [
    {
     "name": "stdout",
     "output_type": "stream",
     "text": [
      "[3.8  3.47 2.7 ]\n"
     ]
    }
   ],
   "source": [
    "avarage_prt_category = np.round(np.mean(producr_ratings, axis=1), 2)\n",
    "print(avarage_prt_category)"
   ]
  },
  {
   "cell_type": "code",
   "execution_count": 9,
   "id": "ce9591ed-37e9-4511-803b-81a8d623c43a",
   "metadata": {},
   "outputs": [
    {
     "data": {
      "text/plain": [
       "np.float64(5.0)"
      ]
     },
     "execution_count": 9,
     "metadata": {},
     "output_type": "execute_result"
    }
   ],
   "source": [
    "avarage_prt_category = np.max(producr_ratings, axis=0)\n",
    "avarage_prt_category"
   ]
  },
  {
   "cell_type": "code",
   "execution_count": null,
   "id": "c02bdcde-859a-4e30-b456-460f9eb98448",
   "metadata": {},
   "outputs": [],
   "source": [
    "avarage_prt_category = np.max(producr_ratings)\n",
    "avarage_prt_category"
   ]
  }
 ],
 "metadata": {
  "kernelspec": {
   "display_name": "Python 3 (ipykernel)",
   "language": "python",
   "name": "python3"
  },
  "language_info": {
   "codemirror_mode": {
    "name": "ipython",
    "version": 3
   },
   "file_extension": ".py",
   "mimetype": "text/x-python",
   "name": "python",
   "nbconvert_exporter": "python",
   "pygments_lexer": "ipython3",
   "version": "3.13.2"
  }
 },
 "nbformat": 4,
 "nbformat_minor": 5
}
