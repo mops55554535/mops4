{
 "cells": [
  {
   "cell_type": "code",
   "execution_count": 6,
   "id": "1de0589b-679e-40bf-90b6-62da000605bb",
   "metadata": {},
   "outputs": [],
   "source": [
    "import numpy as np"
   ]
  },
  {
   "cell_type": "code",
   "execution_count": 8,
   "id": "74dcbdb8-c122-4bba-acd5-f7eeb4d2e2a6",
   "metadata": {},
   "outputs": [
    {
     "data": {
      "text/plain": [
       "array([1, 2, 3, 4])"
      ]
     },
     "execution_count": 8,
     "metadata": {},
     "output_type": "execute_result"
    }
   ],
   "source": [
    "nums_array = np.array([1,2 ,3 ,4 ])\n",
    "nums_array"
   ]
  },
  {
   "cell_type": "code",
   "execution_count": 10,
   "id": "c2cbef08-9cb1-4a2f-9a7c-516241b416a9",
   "metadata": {},
   "outputs": [
    {
     "data": {
      "text/plain": [
       "np.int64(4)"
      ]
     },
     "execution_count": 10,
     "metadata": {},
     "output_type": "execute_result"
    }
   ],
   "source": [
    "nums_array[-1]\n"
   ]
  },
  {
   "cell_type": "code",
   "execution_count": null,
   "id": "85ef2450-c791-4422-9adc-1198a9a221ce",
   "metadata": {},
   "outputs": [],
   "source": []
  }
 ],
 "metadata": {
  "kernelspec": {
   "display_name": "Python 3 (ipykernel)",
   "language": "python",
   "name": "python3"
  },
  "language_info": {
   "codemirror_mode": {
    "name": "ipython",
    "version": 3
   },
   "file_extension": ".py",
   "mimetype": "text/x-python",
   "name": "python",
   "nbconvert_exporter": "python",
   "pygments_lexer": "ipython3",
   "version": "3.13.2"
  }
 },
 "nbformat": 4,
 "nbformat_minor": 5
}
