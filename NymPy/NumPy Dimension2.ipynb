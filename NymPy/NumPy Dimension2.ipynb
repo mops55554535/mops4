{
 "cells": [
  {
   "cell_type": "code",
   "execution_count": 12,
   "id": "1de0589b-679e-40bf-90b6-62da000605bb",
   "metadata": {},
   "outputs": [],
   "source": [
    "import numpy as np"
   ]
  },
  {
   "cell_type": "code",
   "execution_count": 14,
   "id": "74dcbdb8-c122-4bba-acd5-f7eeb4d2e2a6",
   "metadata": {},
   "outputs": [
    {
     "data": {
      "text/plain": [
       "array([[1, 2, 3],\n",
       "       [4, 5, 6]])"
      ]
     },
     "execution_count": 14,
     "metadata": {},
     "output_type": "execute_result"
    }
   ],
   "source": [
    "nums_array = np.array([[1,2,3], [4,5,6]])\n",
    "nums_array"
   ]
  },
  {
   "cell_type": "code",
   "execution_count": 15,
   "id": "c2cbef08-9cb1-4a2f-9a7c-516241b416a9",
   "metadata": {},
   "outputs": [
    {
     "data": {
      "text/plain": [
       "array([4, 5, 6])"
      ]
     },
     "execution_count": 15,
     "metadata": {},
     "output_type": "execute_result"
    }
   ],
   "source": [
    "nums_array[-1]\n"
   ]
  },
  {
   "cell_type": "code",
   "execution_count": 16,
   "id": "85ef2450-c791-4422-9adc-1198a9a221ce",
   "metadata": {},
   "outputs": [
    {
     "data": {
      "text/plain": [
       "(2, 3)"
      ]
     },
     "execution_count": 16,
     "metadata": {},
     "output_type": "execute_result"
    }
   ],
   "source": [
    "nums_array.shape # 2 ряда 3 столбца \n"
   ]
  },
  {
   "cell_type": "code",
   "execution_count": 18,
   "id": "6b7a3685-35d2-4b51-b7af-3ae6f302965c",
   "metadata": {},
   "outputs": [
    {
     "data": {
      "text/plain": [
       "2"
      ]
     },
     "execution_count": 18,
     "metadata": {},
     "output_type": "execute_result"
    }
   ],
   "source": [
    "nums_array.ndim"
   ]
  },
  {
   "cell_type": "code",
   "execution_count": 21,
   "id": "a398529b-bae0-4ae5-b1f7-dd12b2549920",
   "metadata": {},
   "outputs": [],
   "source": [
    "second_array = np.array([[7,8,9], [10,11,12]])"
   ]
  },
  {
   "cell_type": "code",
   "execution_count": 22,
   "id": "4dc59d8b-381a-433f-9fab-08cf1715d0b6",
   "metadata": {},
   "outputs": [
    {
     "data": {
      "text/plain": [
       "array([[ 8, 10, 12],\n",
       "       [14, 16, 18]])"
      ]
     },
     "execution_count": 22,
     "metadata": {},
     "output_type": "execute_result"
    }
   ],
   "source": [
    " nums_array + second_array"
   ]
  },
  {
   "cell_type": "code",
   "execution_count": 23,
   "id": "53b75622-ef96-4678-ba09-3fad40c41718",
   "metadata": {},
   "outputs": [
    {
     "data": {
      "text/plain": [
       "np.int64(5)"
      ]
     },
     "execution_count": 23,
     "metadata": {},
     "output_type": "execute_result"
    }
   ],
   "source": [
    "nums_array[1,1]\n"
   ]
  },
  {
   "cell_type": "code",
   "execution_count": 34,
   "id": "e2edb271-90be-412e-a81e-8f568c60b83e",
   "metadata": {},
   "outputs": [
    {
     "data": {
      "text/plain": [
       "array([1, 2, 3, 4, 5, 6])"
      ]
     },
     "execution_count": 34,
     "metadata": {},
     "output_type": "execute_result"
    }
   ],
   "source": [
    "np.concatenate((np.array([1,2,3]), np.array([4,5,6])))"
   ]
  },
  {
   "cell_type": "code",
   "execution_count": null,
   "id": "ef00217b-5af5-4bd2-8a00-e36d32c284a4",
   "metadata": {},
   "outputs": [],
   "source": []
  }
 ],
 "metadata": {
  "kernelspec": {
   "display_name": "Python 3 (ipykernel)",
   "language": "python",
   "name": "python3"
  },
  "language_info": {
   "codemirror_mode": {
    "name": "ipython",
    "version": 3
   },
   "file_extension": ".py",
   "mimetype": "text/x-python",
   "name": "python",
   "nbconvert_exporter": "python",
   "pygments_lexer": "ipython3",
   "version": "3.13.2"
  }
 },
 "nbformat": 4,
 "nbformat_minor": 5
}
